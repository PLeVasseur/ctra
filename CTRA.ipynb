{
 "cells": [
  {
   "cell_type": "markdown",
   "metadata": {},
   "source": [
    "# CTRA Model\n",
    "\n",
    "Constant turn rate and acceleration model. The states are as follows:\n",
    "\n",
    "| State Variable | Meaning      |  Frame   |\n",
    "|----------------|--------------|----------|\n",
    "|   $x$          | position     | global   |\n",
    "|   $y$          | position     | global   |\n",
    "|   $\\phi$       | heading      | global   |\n",
    "|   $\\omega$     | yaw rate     | ego      |\n",
    "|   $v_x$        | velocity     | ego      |\n",
    "|   $a_x$        | acceleration | ego      |\n",
    "|   $v_y$        | velocity     | ego      |\n",
    "|   $a_y$        | acceleration | ego      |\n",
    "\n",
    "Differential equations that relate change in state to state variables:\n",
    "\n",
    "$$\n",
    "\\begin{equation}\n",
    "\\begin{aligned}\n",
    "\\dot{x} & = v_x \\cos(\\phi) - v_y \\sin(\\phi) \\\\\n",
    "\\dot{y} & = v_x \\sin(\\phi) + v_y \\cos(\\phi)\n",
    "\\end{aligned}\n",
    "\\end{equation}\n",
    "$$\n",
    "\n",
    "$$\n",
    "\\dot{v}_x = a_x \\\\\n",
    "\\dot{v}_y = a_y \\\\\n",
    "\\dot{\\phi} = \\omega\n",
    "$$\n",
    "\n",
    "Performing Taylor series expansion gives:\n",
    "\n",
    "$$\n",
    "\\begin{equation}\n",
    "\\begin{split}\n",
    "\\dot{x}(t + \\Delta t) & = (v_x(t) + a_x(t) \\Delta t + \\mathcal{O}(\\Delta t^2)) \\cos(\\phi(t) + \\omega(t) \\Delta t + \\mathcal{O}(\\Delta t^2)) \\\\\n",
    "        & - (v_y(t) + a_y(t) \\Delta t + \\mathcal{O}(\\Delta t^2)) \\sin(\\phi(t) + \\omega(t) \\Delta t + \\mathcal{O}(\\Delta t^2))\n",
    "\\end{split}\n",
    "\\end{equation}\n",
    "$$\n",
    "\n",
    "$$\n",
    "\\begin{equation}\n",
    "\\begin{split}\n",
    "\\dot{y}(t + \\Delta t) & = (v_x(t) + a_x(t) \\Delta t + \\mathcal{O}(\\Delta t^2)) \\sin(\\phi(t) + \\omega(t) \\Delta t + \\mathcal{O}(\\Delta t^2)) \\\\\n",
    "        & + (v_y(t) + a_y(t) \\Delta t + \\mathcal{O}(\\Delta t^2)) \\cos(\\phi(t) + \\omega(t) \\Delta t + \\mathcal{O}(\\Delta t^2))\n",
    "\\end{split}\n",
    "\\end{equation}\n",
    "$$\n",
    "\n",
    "Neglecting the higher order terms and dropping the $t$ subscript leads to:\n",
    "\n",
    "$$\n",
    "\\begin{equation}\n",
    "\\begin{split}\n",
    "\\dot{x} & = (v_x + a_x \\Delta t) \\cos(\\phi + \\omega \\Delta t) \\\\\n",
    "        & - (v_y + a_y \\Delta t) \\sin(\\phi + \\omega \\Delta t)\n",
    "\\end{split}\n",
    "\\end{equation}\n",
    "$$\n",
    "\n",
    "$$\n",
    "\\begin{equation}\n",
    "\\begin{split}\n",
    "\\dot{y} & = (v_x + a_x \\Delta t) \\sin(\\phi + \\omega \\Delta t) \\\\\n",
    "        & + (v_y + a_y \\Delta t) \\cos(\\phi + \\omega \\Delta t)\n",
    "\\end{split}\n",
    "\\end{equation}\n",
    "$$"
   ]
  },
  {
   "cell_type": "markdown",
   "metadata": {},
   "source": [
    "## The CTRA model accurately rotates velocity and accels into global frame\n",
    "\n",
    "If we try some representative values of $\\phi$, we get what we would expect of from $\\dot{x}$ and $\\dot{y}$"
   ]
  },
  {
   "cell_type": "code",
   "execution_count": 60,
   "metadata": {},
   "outputs": [
    {
     "data": {
      "text/plain": [
       "<matplotlib.legend.Legend at 0x7f9633178050>"
      ]
     },
     "execution_count": 60,
     "metadata": {},
     "output_type": "execute_result"
    },
    {
     "data": {
      "image/png": "[encoded data removed]",
      "text/plain": [
       "<Figure size 432x288 with 1 Axes>"
      ]
     },
     "metadata": {
      "needs_background": "light"
     },
     "output_type": "display_data"
    }
   ],
   "source": [
    "import numpy as np\n",
    "import matplotlib.pyplot as plt\n",
    "\n",
    "def next_velocities(phi, omega, vx, ax, vy, ay, dt):\n",
    "    x_dot = (vx + ax * dt) * np.cos(phi + omega * dt) \\\n",
    "          - (vy + ay * dt) * np.sin(phi + omega * dt)\n",
    "    y_dot = (vx + ax * dt) * np.sin(phi + omega * dt) \\\n",
    "          + (vy + ay * dt) * np.cos(phi + omega * dt)\n",
    "    \n",
    "    return x_dot, y_dot\n",
    "\n",
    "def output_velocities(phi, omega, vx, ax, vy, ay, dt):\n",
    "    x_dot, y_dot = next_velocities(phi, omega, vx, ax, vy, ay, dt)\n",
    "    print('x_dot = ', x_dot)\n",
    "    print('y_dot = ', y_dot)\n",
    "\n",
    "vx = 10.\n",
    "vy = 0.05\n",
    "ax = 1.\n",
    "ay = 0.005\n",
    "phi = np.radians(90)\n",
    "omega = 0.\n",
    "dt = 1.\n",
    "\n",
    "# phi = np.radians(0)\n",
    "# output_velocities(phi, omega, vx, ax, vy, ay, dt)\n",
    "\n",
    "x_dots, y_dots = [], []\n",
    "min_angle, max_angle = 90., 180\n",
    "omega_angles = np.linspace(min_angle, max_angle, (max_angle - min_angle)+1)\n",
    "for angle in omega_angles:\n",
    "    x_dot, y_dot = next_velocities(np.radians(angle), omega, vx, ax, vy, ay, dt)\n",
    "    x_dots.append(x_dot)\n",
    "    y_dots.append(y_dot)\n",
    "\n",
    "plt.figure()\n",
    "plt.hlines([11., -11., 0.], min_angle, max_angle, linestyle='dashed', color='r')\n",
    "plt.plot(omega_angles, x_dots, label='x_dot')\n",
    "plt.plot(omega_angles, y_dots, label='y_dot')\n",
    "plt.legend()"
   ]
  },
  {
   "cell_type": "markdown",
   "metadata": {},
   "source": [
    "## Integrate, and discretize to find the state transition function for position"
   ]
  },
  {
   "cell_type": "code",
   "execution_count": 1,
   "metadata": {},
   "outputs": [],
   "source": [
    "import sympy\n",
    "\n"
   ]
  },
  {
   "cell_type": "code",
   "execution_count": null,
   "metadata": {},
   "outputs": [],
   "source": []
  }
 ],
 "metadata": {
  "kernelspec": {
   "display_name": "Python 3",
   "language": "python",
   "name": "python3"
  },
  "language_info": {
   "codemirror_mode": {
    "name": "ipython",
    "version": 3
   },
   "file_extension": ".py",
   "mimetype": "text/x-python",
   "name": "python",
   "nbconvert_exporter": "python",
   "pygments_lexer": "ipython3",
   "version": "3.7.4"
  }
 },
 "nbformat": 4,
 "nbformat_minor": 2
}
